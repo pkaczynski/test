{
 "cells": [
  {
   "cell_type": "markdown",
   "metadata": {},
   "source": [
    "# Modelowanie w SAS CAS i Python"
   ]
  },
  {
   "cell_type": "markdown",
   "metadata": {},
   "source": [
    "Szablon do uzupełnienia podczas warsztatu"
   ]
  },
  {
   "cell_type": "markdown",
   "metadata": {},
   "source": [
    "## Importy bibliotek"
   ]
  },
  {
   "cell_type": "code",
   "execution_count": null,
   "metadata": {},
   "outputs": [],
   "source": [
    "import sys\n",
    "import os\n",
    "import pandas as pd\n",
    "import swat\n",
    "from matplotlib import pyplot as plt"
   ]
  },
  {
   "cell_type": "markdown",
   "metadata": {},
   "source": [
    "## Połączenie z CAS i ładowanie danych"
   ]
  },
  {
   "cell_type": "code",
   "execution_count": null,
   "metadata": {},
   "outputs": [],
   "source": [
    "conn = swat.CAS('server', 8777, 'student', 'Metadata0')"
   ]
  },
  {
   "cell_type": "code",
   "execution_count": null,
   "metadata": {},
   "outputs": [],
   "source": [
    "indata = conn.upload_file('/home/student/SGF20VIY/hmeq.csv', casOut=dict(caslib='casuser', name='HMEQ', replace=True))"
   ]
  },
  {
   "cell_type": "code",
   "execution_count": null,
   "metadata": {},
   "outputs": [],
   "source": [
    "indata.summary()\n",
    "inputs_nominal = ['REASON', 'JOB']\n",
    "inputs_interval = ['LOAN', 'MORTDUE', 'VALUE', 'YOJ', 'DEROG', 'DELINQ', 'CLAGE', 'NINQ', 'CLNO', 'DEBTINC']\n",
    "target = 'BAD'"
   ]
  },
  {
   "cell_type": "code",
   "execution_count": null,
   "metadata": {},
   "outputs": [],
   "source": [
    "indata.dataPreprocess.impute(\n",
    "    inputs=inputs_interval + inputs_nominal,\n",
    "    casOut=dict(caslib='casuser', name='HMEQ', replace=True),\n",
    "    methodInterval='MEAN',\n",
    "    methodNominal='MODE',\n",
    "    outVarsNamePrefix='',\n",
    "    copyVars=['BAD']\n",
    ")"
   ]
  },
  {
   "cell_type": "code",
   "execution_count": null,
   "metadata": {},
   "outputs": [],
   "source": [
    "conn.loadActionSet('sampling')\n",
    "conn.sampling.srs(\n",
    "    table=dict(caslib='casuser', name='HMEQ'),\n",
    "    samppct=70,\n",
    "    partind=True,\n",
    "    output=dict(casout=dict(caslib='casuser', name='HMEQ', replace=True), copyVars='ALL')\n",
    ")\n",
    "indata.head()"
   ]
  },
  {
   "cell_type": "code",
   "execution_count": null,
   "metadata": {},
   "outputs": [],
   "source": [
    "conn.loadActionSet('decisionTree')\n",
    "conn.decisionTree.gbtreeTrain(\n",
    "    inputs=inputs_interval + inputs_nominal,\n",
    "    nominals=inputs_nominal + [target],\n",
    "    table=dict(caslib='casuser', name='HMEQ', where = '_PartInd_= 1'),\n",
    "    target=target,\n",
    "    casOut=dict(name='hmeq_gbtree', replace=True)\n",
    ")"
   ]
  },
  {
   "cell_type": "code",
   "execution_count": null,
   "metadata": {},
   "outputs": [],
   "source": [
    "hmeq_gbtree_score = conn.decisionTree.gbtreeScore(\n",
    "    table=dict(caslib='casuser', name='HMEQ', where='_PartInd_ = 0'),\n",
    "    model=dict(caslib='casuser', name='hmeq_gbtree'),\n",
    "    casout=dict(caslib='casuser', name='hmeq_gbtree_scored', replace=True),\n",
    "    copyVars=target,\n",
    "    encodename=True,\n",
    "    assessonerow=True\n",
    ")"
   ]
  },
  {
   "cell_type": "code",
   "execution_count": null,
   "metadata": {},
   "outputs": [],
   "source": [
    "hmeq_gbtree_score"
   ]
  },
  {
   "cell_type": "code",
   "execution_count": null,
   "metadata": {},
   "outputs": [],
   "source": [
    "conn.loadActionSet('Percentile')\n",
    "\n",
    "prediction = 'P_BAD1'\n",
    "\n",
    "hmeq_gbtree_asses = conn.percentile.assess(\n",
    "    table=dict(caslib='casuser', name='hmeq_gbtree_scored'),\n",
    "    inputs=prediction,\n",
    "    casout=dict(caslib='casuser', name='hmeq_gbtree_assessed'),\n",
    "    response=target,\n",
    "    event='1'\n",
    ")"
   ]
  },
  {
   "cell_type": "code",
   "execution_count": null,
   "metadata": {},
   "outputs": [],
   "source": [
    "hmeq_gbtree_asses"
   ]
  },
  {
   "cell_type": "code",
   "execution_count": null,
   "metadata": {},
   "outputs": [],
   "source": [
    "hmeq_gbtree_ROC = conn.CASTable(caslib='casuser', name='hmeq_gbtree_assessed_ROC')\n",
    "hmeq_gbtree_Lift = conn.CASTable(caslib='casuser', name='hmeq_gbtree_assessed')\n"
   ]
  },
  {
   "cell_type": "code",
   "execution_count": null,
   "metadata": {},
   "outputs": [],
   "source": [
    "hmeq_gbtree_ROC.head()"
   ]
  },
  {
   "cell_type": "code",
   "execution_count": null,
   "metadata": {},
   "outputs": [],
   "source": [
    "hmeq_gbtree_ROC = hmeq_gbtree_ROC.to_frame()"
   ]
  },
  {
   "cell_type": "code",
   "execution_count": null,
   "metadata": {},
   "outputs": [],
   "source": [
    "hmeq_gbtree_Lift = hmeq_gbtree_Lift.to_frame()"
   ]
  },
  {
   "cell_type": "code",
   "execution_count": null,
   "metadata": {},
   "outputs": [],
   "source": [
    "plt.figure(figsize=(10, 10))\n",
    "plt.plot(1-hmeq_gbtree_ROC['_Specificity_'], hmeq_gbtree_ROC['_Sensitivity_'], 'bo-', linewidth=3)\n",
    "plt.plot(pd.Series(range(0, 11, 1)) / 10, pd.Series(range(0, 11, 1)) / 10, 'k--')\n",
    "plt.xlabel('False Positive Rate')\n",
    "plt.ylabel('True Positive Rate')\n",
    "plt.title('Krzywa ROC')\n",
    "plt.show()"
   ]
  },
  {
   "cell_type": "code",
   "execution_count": null,
   "metadata": {},
   "outputs": [],
   "source": [
    "plt.figure(figsize=(10, 10))\n",
    "plt.plot(hmeq_gbtree_Lift['_Depth_'], hmeq_gbtree_Lift['_CumLift_'], 'bo-', linewidth=3)\n",
    "plt.xlabel('Depth')\n",
    "plt.ylabel('Cumulative Lift')\n",
    "plt.title('Krzywa liftu skumulowanego')\n",
    "plt.show()"
   ]
  },
  {
   "cell_type": "code",
   "execution_count": null,
   "metadata": {},
   "outputs": [],
   "source": [
    "conn.close()"
   ]
  },
  {
   "cell_type": "code",
   "execution_count": null,
   "metadata": {},
   "outputs": [],
   "source": []
  }
 ],
 "metadata": {
  "kernelspec": {
   "display_name": "Python 3",
   "language": "python",
   "name": "python3"
  },
  "language_info": {
   "codemirror_mode": {
    "name": "ipython",
    "version": 3
   },
   "file_extension": ".py",
   "mimetype": "text/x-python",
   "name": "python",
   "nbconvert_exporter": "python",
   "pygments_lexer": "ipython3",
   "version": "3.7.4"
  }
 },
 "nbformat": 4,
 "nbformat_minor": 2
}
